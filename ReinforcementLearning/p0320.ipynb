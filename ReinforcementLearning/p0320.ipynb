{
 "cells": [
  {
   "cell_type": "code",
   "execution_count": 2,
   "metadata": {},
   "outputs": [
    {
     "name": "stdout",
     "output_type": "stream",
     "text": [
      "-8.000000000000002\n"
     ]
    }
   ],
   "source": [
    "total_value = 0\n",
    "\n",
    "total_value = 1 - (0.9 / (1 - 0.9))\n",
    "\n",
    "print(total_value)"
   ]
  },
  {
   "cell_type": "code",
   "execution_count": null,
   "metadata": {},
   "outputs": [],
   "source": [
    "level = {\"L1\":\"void\", \"L2\":\"apple\"}\n",
    "state = 0 #idx\n",
    "\n",
    "agent = [{\"L1\":\"Right\", \"L2\":\"Right\"}, {\"L1\":\"Right\", \"L2\":\"Left\"}, {\"L1\":\"Left\", \"L2\":\"Right\"}, {\"L1\":\"Left\", \"L2\":\"Left\"}]\n",
    "\n"
   ]
  }
 ],
 "metadata": {
  "kernelspec": {
   "display_name": "base",
   "language": "python",
   "name": "python3"
  },
  "language_info": {
   "codemirror_mode": {
    "name": "ipython",
    "version": 3
   },
   "file_extension": ".py",
   "mimetype": "text/x-python",
   "name": "python",
   "nbconvert_exporter": "python",
   "pygments_lexer": "ipython3",
   "version": "3.12.4"
  }
 },
 "nbformat": 4,
 "nbformat_minor": 2
}
