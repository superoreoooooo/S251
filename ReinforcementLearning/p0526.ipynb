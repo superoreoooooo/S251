{
 "cells": [
  {
   "cell_type": "code",
   "execution_count": 1,
   "id": "4db7521c",
   "metadata": {},
   "outputs": [],
   "source": [
    "import numpy as np\n",
    "from dezero import Variable"
   ]
  },
  {
   "cell_type": "code",
   "execution_count": 2,
   "id": "741e5c9a",
   "metadata": {},
   "outputs": [
    {
     "name": "stdout",
     "output_type": "stream",
     "text": [
      "variable([[ 1  3  2 13]\n",
      "          [ 3  4  6 29]\n",
      "          [ 3  4  2 17]\n",
      "          [ 1  0  0  1]\n",
      "          [ 0  0  1  3]])\n"
     ]
    }
   ],
   "source": [
    "import dezero.functions as F\n",
    "\n",
    "a = np.array([[1, 3, 2], [3, 4, 6], [3, 4, 2], [1, 0, 0], [0, 0, 1]])\n",
    "b = np.array([[1, 0, 0, 1], [0, 1, 0, 2], [0, 0, 1, 3]])\n",
    "\n",
    "c = F.matmul(a, b)\n",
    "\n",
    "print(c)"
   ]
  },
  {
   "cell_type": "code",
   "execution_count": 3,
   "id": "91bbb256",
   "metadata": {},
   "outputs": [
    {
     "name": "stdout",
     "output_type": "stream",
     "text": [
      "variable(-2.0) variable(400.0)\n"
     ]
    }
   ],
   "source": [
    "def rosenbrock(x0, x1) :\n",
    "    y = 100 * (x1 - x0 ** 2) ** 2 + (x0 - 1) ** 2\n",
    "    return y\n",
    "\n",
    "x0 = Variable(np.array(0.0))\n",
    "x1 = Variable(np.array(2.0))\n",
    "\n",
    "y = rosenbrock(x0, x1)\n",
    "y.backward()\n",
    "print(x0.grad, x1.grad)"
   ]
  },
  {
   "cell_type": "code",
   "execution_count": 4,
   "id": "e4c277de",
   "metadata": {},
   "outputs": [
    {
     "name": "stdout",
     "output_type": "stream",
     "text": [
      "variable(0.999999999999928) variable(0.9999999999998557)\n"
     ]
    }
   ],
   "source": [
    "x0 = Variable(np.array(0.0))\n",
    "x1 = Variable(np.array(2.0))\n",
    "\n",
    "iters = 100000\n",
    "lr = 0.001\n",
    "\n",
    "for i in range(iters) :\n",
    "    y = rosenbrock(x0, x1)\n",
    "    \n",
    "    x0.cleargrad()\n",
    "    x1.cleargrad()\n",
    "    \n",
    "    y.backward()\n",
    "    \n",
    "    x0.data -= lr * x0.grad.data\n",
    "    x1.data -= lr * x1.grad.data\n",
    "    \n",
    "print(x0, x1)"
   ]
  },
  {
   "cell_type": "code",
   "execution_count": null,
   "id": "27a19b4d",
   "metadata": {},
   "outputs": [],
   "source": []
  }
 ],
 "metadata": {
  "kernelspec": {
   "display_name": "RL2",
   "language": "python",
   "name": "python3"
  },
  "language_info": {
   "codemirror_mode": {
    "name": "ipython",
    "version": 3
   },
   "file_extension": ".py",
   "mimetype": "text/x-python",
   "name": "python",
   "nbconvert_exporter": "python",
   "pygments_lexer": "ipython3",
   "version": "3.11.11"
  }
 },
 "nbformat": 4,
 "nbformat_minor": 5
}
