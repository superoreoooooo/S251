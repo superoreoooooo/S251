{
 "cells": [
  {
   "cell_type": "markdown",
   "metadata": {},
   "source": [
    "# 강화학습 1장\n",
    "## 밴디트 문제"
   ]
  },
  {
   "cell_type": "code",
   "execution_count": 3,
   "metadata": {},
   "outputs": [
    {
     "name": "stdout",
     "output_type": "stream",
     "text": [
      " 1 : 0.5488135039273248\n",
      " 2 : 0.6320014351498722\n",
      " 3 : 0.6222554154571294\n",
      " 4 : 0.6029123573420713\n",
      " 5 : 0.567060845741438\n",
      " 6 : 0.5801997236289743\n",
      " 7 : 0.5598265075766483\n",
      " 8 : 0.6013198192273272\n",
      " 9 : 0.6415801460355164\n",
      "10 : 0.6157662833145425\n"
     ]
    }
   ],
   "source": [
    "import numpy as np\n",
    "\n",
    "np.random.seed(0)\n",
    "rewards = []    \n",
    "\n",
    "for n in range(1, 11) :\n",
    "    reward = np.random.rand()\n",
    "    rewards.append(reward)\n",
    "    Q = sum(rewards) / n\n",
    "    print(f\"{n:2d} : {Q}\")"
   ]
  },
  {
   "cell_type": "code",
   "execution_count": 5,
   "metadata": {},
   "outputs": [
    {
     "name": "stdout",
     "output_type": "stream",
     "text": [
      " 1 : 0.5488135039273248\n",
      " 2 : 0.6320014351498722\n",
      " 3 : 0.6222554154571294\n",
      " 4 : 0.6029123573420713\n",
      " 5 : 0.567060845741438\n",
      " 6 : 0.5801997236289743\n",
      " 7 : 0.5598265075766483\n",
      " 8 : 0.6013198192273272\n",
      " 9 : 0.6415801460355164\n",
      "10 : 0.6157662833145425\n"
     ]
    }
   ],
   "source": [
    "np.random.seed(0)\n",
    "rewards = []\n",
    "\n",
    "Q = 0\n",
    "\n",
    "for n in range(1, 11) :\n",
    "    reward = np.random.rand()\n",
    "    Q = Q + (1 / n) * (reward - Q)\n",
    "\n",
    "    print(f\"{n:2d} : {Q}\")"
   ]
  }
 ],
 "metadata": {
  "kernelspec": {
   "display_name": "base",
   "language": "python",
   "name": "python3"
  },
  "language_info": {
   "codemirror_mode": {
    "name": "ipython",
    "version": 3
   },
   "file_extension": ".py",
   "mimetype": "text/x-python",
   "name": "python",
   "nbconvert_exporter": "python",
   "pygments_lexer": "ipython3",
   "version": "3.12.4"
  }
 },
 "nbformat": 4,
 "nbformat_minor": 2
}
