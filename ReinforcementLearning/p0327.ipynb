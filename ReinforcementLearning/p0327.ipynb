{
 "cells": [
  {
   "cell_type": "code",
   "execution_count": 1,
   "metadata": {},
   "outputs": [],
   "source": [
    "import numpy as np"
   ]
  },
  {
   "cell_type": "code",
   "execution_count": 12,
   "metadata": {},
   "outputs": [
    {
     "name": "stdout",
     "output_type": "stream",
     "text": [
      "5.26\n"
     ]
    }
   ],
   "source": [
    "V = 0\n",
    "\n",
    "for i in range(0, 1000) :\n",
    "    V += (0.81 ** i)\n",
    "\n",
    "print(f\"{V:.2f}\")"
   ]
  },
  {
   "cell_type": "code",
   "execution_count": 20,
   "metadata": {},
   "outputs": [
    {
     "name": "stdout",
     "output_type": "stream",
     "text": [
      "4.74\n"
     ]
    }
   ],
   "source": [
    "V = 0\n",
    "\n",
    "for i in range(0, 1000) :\n",
    "    V += 0.9 * (0.81 ** i)\n",
    "\n",
    "print(f\"{V:.2f}\")"
   ]
  },
  {
   "cell_type": "code",
   "execution_count": 22,
   "metadata": {},
   "outputs": [
    {
     "name": "stdout",
     "output_type": "stream",
     "text": [
      "5.26\n",
      "4.74\n"
     ]
    }
   ],
   "source": [
    "u2L1 = 0 + (1 / (1 - 0.81))\n",
    "\n",
    "print(f\"{u2L1:.2f}\")\n",
    "\n",
    "u2L2 = 0 + (0.9 / (1 - 0.81))\n",
    "\n",
    "print(f\"{u2L2:.2f}\")"
   ]
  }
 ],
 "metadata": {
  "kernelspec": {
   "display_name": "Python 3",
   "language": "python",
   "name": "python3"
  },
  "language_info": {
   "codemirror_mode": {
    "name": "ipython",
    "version": 3
   },
   "file_extension": ".py",
   "mimetype": "text/x-python",
   "name": "python",
   "nbconvert_exporter": "python",
   "pygments_lexer": "ipython3",
   "version": "3.13.1"
  }
 },
 "nbformat": 4,
 "nbformat_minor": 2
}
