{
 "cells": [
  {
   "cell_type": "code",
   "execution_count": 2,
   "metadata": {},
   "outputs": [],
   "source": [
    "import random\n",
    "import numpy as np\n",
    "import time"
   ]
  },
  {
   "cell_type": "code",
   "execution_count": null,
   "metadata": {},
   "outputs": [
    {
     "name": "stdout",
     "output_type": "stream",
     "text": [
      "당신의 이름은 민 서홍 입니다.\n"
     ]
    }
   ],
   "source": [
    "name = input(\"이름을 입력하세요 : \")\n",
    "\n",
    "last_name = name[0:1]\n",
    "first_name = name[1:len(name)]\n",
    "\n",
    "print(\"당신의 이름은\", last_name, first_name, \"입니다. 우왕\")"
   ]
  },
  {
   "cell_type": "code",
   "execution_count": 7,
   "metadata": {},
   "outputs": [
    {
     "name": "stdout",
     "output_type": "stream",
     "text": [
      "농도는 38.46153846153847% 입니다.\n"
     ]
    }
   ],
   "source": [
    "saltAmount = int(input(\"소금의 양을 입력하세요 : \"))\n",
    "waterAmount = int(input(\"물의 양을 입력하세요 : \"))\n",
    "\n",
    "density = saltAmount / (saltAmount + waterAmount) * 100\n",
    "\n",
    "print(f\"농도는 {density}% 입니다.\")"
   ]
  }
 ],
 "metadata": {
  "kernelspec": {
   "display_name": "Python 3",
   "language": "python",
   "name": "python3"
  },
  "language_info": {
   "codemirror_mode": {
    "name": "ipython",
    "version": 3
   },
   "file_extension": ".py",
   "mimetype": "text/x-python",
   "name": "python",
   "nbconvert_exporter": "python",
   "pygments_lexer": "ipython3",
   "version": "3.13.1"
  }
 },
 "nbformat": 4,
 "nbformat_minor": 2
}
