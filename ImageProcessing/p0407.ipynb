{
 "cells": [
  {
   "cell_type": "code",
   "execution_count": 1,
   "metadata": {},
   "outputs": [],
   "source": [
    "import numpy as np\n",
    "import matplotlib.pyplot as plt\n",
    "from sympy import *"
   ]
  },
  {
   "cell_type": "code",
   "execution_count": null,
   "metadata": {},
   "outputs": [
    {
     "name": "stdout",
     "output_type": "stream",
     "text": [
      "120000.0 <class 'float'>\n",
      "0.001 <class 'float'>\n"
     ]
    }
   ],
   "source": [
    "print(1.2e5, type(1.2e5))\n",
    "print(1e-3, type(1e-3))"
   ]
  },
  {
   "cell_type": "code",
   "execution_count": 7,
   "metadata": {},
   "outputs": [
    {
     "name": "stdout",
     "output_type": "stream",
     "text": [
      "1.4142135623730951\n",
      "20.085536923187668\n",
      "1.6094379124341003\n",
      "-1.0\n",
      "1.0\n",
      "0.9999999999999999\n"
     ]
    }
   ],
   "source": [
    "import math\n",
    "\n",
    "print(math.sqrt(2))\n",
    "print(math.exp(3))\n",
    "print(math.log(5))\n",
    "print(math.cos(math.pi))\n",
    "print(math.sin(math.pi / 2))\n",
    "print(math.tan(math.pi / 4))"
   ]
  },
  {
   "cell_type": "code",
   "execution_count": 156,
   "metadata": {},
   "outputs": [
    {
     "name": "stdout",
     "output_type": "stream",
     "text": [
      "[[0 7 9 0 6 0 7 6 5 3]\n",
      " [0 0 6 7 9 9 1 0 8 3]\n",
      " [8 4 5 7 5 1 0 4 2 3]\n",
      " [6 3 0 7 8 6 2 7 2 8]\n",
      " [5 7 9 3 4 7 6 8 6 5]\n",
      " [1 9 7 8 8 0 5 4 2 3]\n",
      " [9 5 8 2 2 7 5 6 2 5]\n",
      " [5 2 0 1 4 6 9 5 9 9]\n",
      " [7 1 8 1 0 7 0 8 0 0]\n",
      " [6 6 9 1 0 7 3 9 6 0]]\n",
      "6\n"
     ]
    }
   ],
   "source": [
    "a = np.random.randint(0, 10, (10, 10))\n",
    "\n",
    "print(a)\n",
    "\n",
    "print(a[1][2])"
   ]
  },
  {
   "cell_type": "code",
   "execution_count": null,
   "metadata": {},
   "outputs": [],
   "source": [
    "a = a.flatten()\n",
    "\n"
   ]
  }
 ],
 "metadata": {
  "kernelspec": {
   "display_name": "base",
   "language": "python",
   "name": "python3"
  },
  "language_info": {
   "codemirror_mode": {
    "name": "ipython",
    "version": 3
   },
   "file_extension": ".py",
   "mimetype": "text/x-python",
   "name": "python",
   "nbconvert_exporter": "python",
   "pygments_lexer": "ipython3",
   "version": "3.12.4"
  }
 },
 "nbformat": 4,
 "nbformat_minor": 2
}
