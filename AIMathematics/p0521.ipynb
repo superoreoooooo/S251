{
 "cells": [
  {
   "cell_type": "code",
   "execution_count": 1,
   "id": "b268a315",
   "metadata": {},
   "outputs": [],
   "source": [
    "import numpy as np"
   ]
  },
  {
   "cell_type": "code",
   "execution_count": 2,
   "id": "558b3869",
   "metadata": {},
   "outputs": [
    {
     "name": "stdout",
     "output_type": "stream",
     "text": [
      "calc_norm : 3.0\n"
     ]
    }
   ],
   "source": [
    "def calc_norm(v) :\n",
    "    norm = np.sqrt(np.sum(v * v))\n",
    "    return norm\n",
    "\n",
    "x = np.array([1, 2, 0, 2])\n",
    "print(f\"calc_norm : {calc_norm(x)}\")"
   ]
  },
  {
   "cell_type": "code",
   "execution_count": 6,
   "id": "c0d7e32b",
   "metadata": {},
   "outputs": [
    {
     "name": "stdout",
     "output_type": "stream",
     "text": [
      "calc_dot : 7\n",
      "calc_dot : 0\n",
      "7 0\n"
     ]
    }
   ],
   "source": [
    "def calc_dot(v1, v2) :\n",
    "    return np.sum(v1 * v2)\n",
    "\n",
    "x = np.array([1, 2, 3, -1])\n",
    "y = np.array([0, 1, 2, 1])\n",
    "z = np.array([2023, 1, -1, 1])\n",
    "\n",
    "print(f\"calc_dot : {calc_dot(x, y)}\")\n",
    "print(f\"calc_dot : {calc_dot(y, z)}\")\n",
    "\n",
    "print(np.dot(x, y), np.dot(y, z))"
   ]
  },
  {
   "cell_type": "code",
   "execution_count": 8,
   "id": "69ac6cf9",
   "metadata": {},
   "outputs": [
    {
     "name": "stdout",
     "output_type": "stream",
     "text": [
      "[1. 0.]\n",
      "[4.7027027  0.78378378]\n"
     ]
    }
   ],
   "source": [
    "def orth(v1, v2) :\n",
    "    return (v1.dot(v2) / v2.dot(v2)) * v2\n",
    "\n",
    "x = np.array([1, 1])\n",
    "y = np.array([2, 0])\n",
    "\n",
    "print(orth(x, y))\n",
    "\n",
    "a = np.array([4, 5])\n",
    "b = np.array([6, 1])\n",
    "\n",
    "print(orth(a, b))"
   ]
  },
  {
   "cell_type": "code",
   "execution_count": 10,
   "id": "36365889",
   "metadata": {},
   "outputs": [
    {
     "name": "stdout",
     "output_type": "stream",
     "text": [
      "4\n"
     ]
    }
   ],
   "source": [
    "def calc_hamming(v1, v2) :\n",
    "    hamming_distance = 0\n",
    "    for i in range(0, len(v1), 1) :\n",
    "        if (v1[i] != v2[i]) : hamming_distance += 1\n",
    "    return hamming_distance\n",
    "\n",
    "v = np.array([0, 1, 1, 0, 1])\n",
    "w = np.array([1, 1, 0, 1, 0])\n",
    "\n",
    "print(calc_hamming(v, w))"
   ]
  },
  {
   "cell_type": "code",
   "execution_count": 12,
   "id": "cadc8d6f",
   "metadata": {},
   "outputs": [
    {
     "name": "stdout",
     "output_type": "stream",
     "text": [
      "[[y*z]\n",
      " [x*z]\n",
      " [x*y]]\n",
      "[[2*x*y**3 + y*exp(x*y)]\n",
      " [3*x**2*y**2 + x*exp(x*y)]\n",
      " [2*z]]\n"
     ]
    }
   ],
   "source": [
    "from sympy import *\n",
    "\n",
    "x, y, z = symbols('x y z')\n",
    "f = x*y*z\n",
    "\n",
    "df_dx = diff(f, x)\n",
    "df_dy = diff(f, y)\n",
    "df_dz = diff(f, z)\n",
    "\n",
    "gradient_f_1 = np.array([[df_dx], [df_dy], [df_dz]])\n",
    "\n",
    "print(gradient_f_1)\n",
    "\n",
    "f = x**2*y**3+z**2+exp(x*y)\n",
    "\n",
    "df_dx = diff(f, x)\n",
    "df_dy = diff(f, y)\n",
    "df_dz = diff(f, z)\n",
    "\n",
    "gradient_f_1 = np.array([[df_dx], [df_dy], [df_dz]])\n",
    "\n",
    "print(gradient_f_1)\n"
   ]
  },
  {
   "cell_type": "code",
   "execution_count": 17,
   "id": "f7e31c26",
   "metadata": {},
   "outputs": [
    {
     "name": "stdout",
     "output_type": "stream",
     "text": [
      "6*x + 2\n",
      "6*x*y*z**2 + x*y*(2*x**2 + y*exp(y*z)) + x*z**2*exp(y*z) - 2*cos(y)\n"
     ]
    }
   ],
   "source": [
    "x, y = symbols('x y')\n",
    "f = x**3+2*x+y**2\n",
    "\n",
    "d2f_dx2 = diff(f, x, 2)\n",
    "d2f_dy2 = diff(f, y, 2)\n",
    "\n",
    "lap = d2f_dx2 + d2f_dy2\n",
    "\n",
    "print(lap)\n",
    "\n",
    "x, y, z = symbols('x y z')\n",
    "f = x**3*y*z**2+2*cos(y)+x*exp(y*z)\n",
    "\n",
    "\n",
    "d2f_dx2 = diff(f, x, 2)\n",
    "d2f_dy2 = diff(f, y, 2)\n",
    "d2f_dz2 = diff(f, z, 2)\n",
    "\n",
    "lap2 = d2f_dx2 + d2f_dy2 + d2f_dz2\n",
    "\n",
    "print(lap2)"
   ]
  }
 ],
 "metadata": {
  "kernelspec": {
   "display_name": "base",
   "language": "python",
   "name": "python3"
  },
  "language_info": {
   "codemirror_mode": {
    "name": "ipython",
    "version": 3
   },
   "file_extension": ".py",
   "mimetype": "text/x-python",
   "name": "python",
   "nbconvert_exporter": "python",
   "pygments_lexer": "ipython3",
   "version": "3.12.4"
  }
 },
 "nbformat": 4,
 "nbformat_minor": 5
}
