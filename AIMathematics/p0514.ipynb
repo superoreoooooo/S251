{
 "cells": [
  {
   "cell_type": "code",
   "execution_count": 2,
   "id": "03396c1f",
   "metadata": {},
   "outputs": [],
   "source": [
    "import numpy as np"
   ]
  },
  {
   "cell_type": "code",
   "execution_count": 5,
   "id": "aa2f2ec8",
   "metadata": {},
   "outputs": [
    {
     "name": "stdout",
     "output_type": "stream",
     "text": [
      "[[-7.  3.]\n",
      " [ 5. -2.]]\n"
     ]
    }
   ],
   "source": [
    "A = np.array([[2, 3], [5, 7]])\n",
    "\n",
    "A_inv = np.linalg.inv(A)\n",
    "\n",
    "print(A_inv)"
   ]
  },
  {
   "cell_type": "code",
   "execution_count": 6,
   "id": "c976eef3",
   "metadata": {},
   "outputs": [
    {
     "name": "stdout",
     "output_type": "stream",
     "text": [
      "[[ 0.16666667 -0.08333333 -0.33333333]\n",
      " [-0.16666667  0.58333333  0.33333333]\n",
      " [ 0.66666667 -0.83333333 -0.33333333]]\n"
     ]
    }
   ],
   "source": [
    "b = np.array([[1, 3, 2], [2, 2, 0], [-3, 1, 1]])\n",
    "\n",
    "print(np.linalg.inv(b))"
   ]
  },
  {
   "cell_type": "code",
   "execution_count": 8,
   "id": "ad65dd96",
   "metadata": {},
   "outputs": [
    {
     "name": "stdout",
     "output_type": "stream",
     "text": [
      "[[-1  3]\n",
      " [ 3  7]]\n",
      "[[ 1  7 10]\n",
      " [ 3  2 11]\n",
      " [ 5  9  3]]\n"
     ]
    }
   ],
   "source": [
    "a = np.array([[-1, 3], [3, 7]])\n",
    "a_t = a.T\n",
    "\n",
    "print(a_t)\n",
    "\n",
    "b = np.array([[1, 3, 5], [7, 2, 9], [10, 11, 3]])\n",
    "b_t = b.T\n",
    "\n",
    "print(b_t)"
   ]
  },
  {
   "cell_type": "code",
   "execution_count": null,
   "id": "19fb2e54",
   "metadata": {},
   "outputs": [],
   "source": [
    "\n"
   ]
  }
 ],
 "metadata": {
  "kernelspec": {
   "display_name": "base",
   "language": "python",
   "name": "python3"
  },
  "language_info": {
   "codemirror_mode": {
    "name": "ipython",
    "version": 3
   },
   "file_extension": ".py",
   "mimetype": "text/x-python",
   "name": "python",
   "nbconvert_exporter": "python",
   "pygments_lexer": "ipython3",
   "version": "3.12.4"
  }
 },
 "nbformat": 4,
 "nbformat_minor": 5
}
