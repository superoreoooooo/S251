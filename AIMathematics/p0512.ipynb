{
 "cells": [
  {
   "cell_type": "code",
   "execution_count": 2,
   "id": "e31218c5",
   "metadata": {},
   "outputs": [],
   "source": [
    "import numpy as np\n",
    "from sympy import *"
   ]
  },
  {
   "cell_type": "code",
   "execution_count": 3,
   "id": "87dda031",
   "metadata": {},
   "outputs": [
    {
     "name": "stdout",
     "output_type": "stream",
     "text": [
      "[[1 3 2 2]\n",
      " [2 2 0 0]\n",
      " [-3 1 1 -2]]\n",
      "[[1 0 0 1]\n",
      " [0 1 0 -1]\n",
      " [0 0 1 2]]\n"
     ]
    }
   ],
   "source": [
    "a = np.array([[1, 3, 2], [2, 2, 0], [-3, 1, 1]])\n",
    "b = np.array([[2, 0, -2]])\n",
    "\n",
    "augmented_a = Matrix(np.hstack((a, b.T)))\n",
    "print(np.array(augmented_a))\n",
    "print(np.array(augmented_a.rref()[0]))"
   ]
  },
  {
   "cell_type": "code",
   "execution_count": 4,
   "id": "7064f388",
   "metadata": {},
   "outputs": [
    {
     "name": "stdout",
     "output_type": "stream",
     "text": [
      "[[3 6 3 6]\n",
      " [2 1 4 -1]\n",
      " [-1 3 5 -3]]\n",
      "[[1 0 0 1]\n",
      " [0 1 0 1]\n",
      " [0 0 1 -1]]\n"
     ]
    }
   ],
   "source": [
    "a = np.array([[3, 6, 3], [2, 1, 4], [-1, 3, 5]])\n",
    "b = np.array([[6, -1, -3]])\n",
    "\n",
    "augmented_a = Matrix(np.hstack((a, b.T)))\n",
    "print(np.array(augmented_a))\n",
    "print(np.array(augmented_a.rref()[0]))"
   ]
  }
 ],
 "metadata": {
  "kernelspec": {
   "display_name": "base",
   "language": "python",
   "name": "python3"
  },
  "language_info": {
   "codemirror_mode": {
    "name": "ipython",
    "version": 3
   },
   "file_extension": ".py",
   "mimetype": "text/x-python",
   "name": "python",
   "nbconvert_exporter": "python",
   "pygments_lexer": "ipython3",
   "version": "3.12.4"
  }
 },
 "nbformat": 4,
 "nbformat_minor": 5
}
