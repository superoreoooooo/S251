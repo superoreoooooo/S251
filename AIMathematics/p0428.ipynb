{
 "cells": [
  {
   "cell_type": "code",
   "execution_count": 1,
   "id": "6631aef5",
   "metadata": {},
   "outputs": [],
   "source": [
    "import numpy as np"
   ]
  },
  {
   "cell_type": "code",
   "execution_count": 4,
   "id": "cc4df58a",
   "metadata": {},
   "outputs": [
    {
     "name": "stdout",
     "output_type": "stream",
     "text": [
      "[[2 6]\n",
      " [5 6]]\n",
      "[[-2  0]\n",
      " [ 1  0]]\n",
      "[[10 15]\n",
      " [10 15]]\n"
     ]
    }
   ],
   "source": [
    "A = np.random.randint(0, 4, (2, 2))\n",
    "B = np.random.randint(0, 4, (2, 2))\n",
    "\n",
    "\n",
    "print(A + B)\n",
    "print(A - B)\n",
    "print(5 * B)"
   ]
  },
  {
   "cell_type": "code",
   "execution_count": 15,
   "id": "fa8295cf",
   "metadata": {},
   "outputs": [
    {
     "name": "stdout",
     "output_type": "stream",
     "text": [
      "[[19 22]\n",
      " [43 50]]\n",
      "[[23 34]\n",
      " [31 46]]\n",
      "False\n"
     ]
    }
   ],
   "source": [
    "A = np.arange(1, 5, 1).reshape(2,2)\n",
    "B = A.copy() + 4\n",
    "\n",
    "print(A.dot(B))\n",
    "print(B.dot(A))\n",
    "\n",
    "print(np.array_equal(A.dot(B), B.dot(A)))"
   ]
  },
  {
   "cell_type": "code",
   "execution_count": 26,
   "id": "375b73b8",
   "metadata": {},
   "outputs": [
    {
     "name": "stdout",
     "output_type": "stream",
     "text": [
      "[[-3 -2]\n",
      " [ 3  4]\n",
      " [ 9  7]]\n",
      "[[ 3  6  9]\n",
      " [ 3 -2 -1]\n",
      " [ 3  2  4]]\n",
      "[[3]\n",
      " [6]\n",
      " [9]]\n"
     ]
    }
   ],
   "source": [
    "A = np.array([[3, 0], [-1, 2], [1, 1]])\n",
    "B = np.array([[-3, -1], [2, 1], [4, 3]])\n",
    "C = np.array([[1, 2, 3], [2, 0, 1]])\n",
    "D = np.arange(1, 4).reshape((3, 1))\n",
    "\n",
    "print(A + 2 * B)\n",
    "print(np.matmul(A, C))\n",
    "print(3 * D)"
   ]
  },
  {
   "cell_type": "code",
   "execution_count": null,
   "id": "85cb4c14",
   "metadata": {},
   "outputs": [],
   "source": []
  }
 ],
 "metadata": {
  "kernelspec": {
   "display_name": "base",
   "language": "python",
   "name": "python3"
  },
  "language_info": {
   "codemirror_mode": {
    "name": "ipython",
    "version": 3
   },
   "file_extension": ".py",
   "mimetype": "text/x-python",
   "name": "python",
   "nbconvert_exporter": "python",
   "pygments_lexer": "ipython3",
   "version": "3.12.4"
  }
 },
 "nbformat": 4,
 "nbformat_minor": 5
}
