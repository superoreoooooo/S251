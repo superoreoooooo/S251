{
 "cells": [
  {
   "cell_type": "code",
   "execution_count": null,
   "metadata": {},
   "outputs": [],
   "source": [
    "import numpy as np\n",
    "import matplotlib.pyplot as plt\n",
    "import simpy\n",
    "import scipy"
   ]
  },
  {
   "cell_type": "code",
   "execution_count": 8,
   "metadata": {},
   "outputs": [
    {
     "name": "stdout",
     "output_type": "stream",
     "text": [
      "안녕하세용가리\n"
     ]
    }
   ],
   "source": [
    "print(\"안녕하세용가리\")"
   ]
  },
  {
   "cell_type": "code",
   "execution_count": null,
   "metadata": {},
   "outputs": [
    {
     "name": "stdout",
     "output_type": "stream",
     "text": [
      "['졸리다', '졸리다', '졸리다', '졸리다', '졸리다', '졸리다', '졸리다', '졸리다', '졸리다', '졸리다', '졸리다', '졸리다', '졸리다', '졸리다', '졸리다', '졸리다', '졸리다', '졸리다', '졸리다', '졸리다', '졸리다', '졸리다', '졸리다', '졸리다', '졸리다', '졸리다', '졸리다', '졸리다', '졸리다', '졸리다', '졸리다', '졸리다', '졸리다', '졸리다', '졸리다', '졸리다', '졸리다', '졸리다', '졸리다', '졸리다', '졸리다', '졸리다', '졸리다', '졸리다', '졸리다', '졸리다', '졸리다', '졸리다', '졸리다', '졸리다', '졸리다', '졸리다', '졸리다', '졸리다', '졸리다', '졸리다', '졸리다', '졸리다', '졸리다', '졸리다', '졸리다', '졸리다', '졸리다', '졸리다', '졸리다', '졸리다', '졸리다', '졸리다', '졸리다', '졸리다', '졸리다', '졸리다', '졸리다', '졸리다', '졸리다', '졸리다', '졸리다', '졸리다', '졸리다', '졸리다', '졸리다', '졸리다', '졸리다', '졸리다', '졸리다', '졸리다', '졸리다', '졸리다', '졸리다', '졸리다', '졸리다', '졸리다', '졸리다', '졸리다', '졸리다', '졸리다', '졸리다', '졸리다', '졸리다', '졸리다']\n"
     ]
    }
   ],
   "source": [
    "print(['졸리다' for _ in range(0, 100, 1)])"
   ]
  },
  {
   "cell_type": "code",
   "execution_count": null,
   "metadata": {},
   "outputs": [],
   "source": []
  }
 ],
 "metadata": {
  "kernelspec": {
   "display_name": "base",
   "language": "python",
   "name": "python3"
  },
  "language_info": {
   "codemirror_mode": {
    "name": "ipython",
    "version": 3
   },
   "file_extension": ".py",
   "mimetype": "text/x-python",
   "name": "python",
   "nbconvert_exporter": "python",
   "pygments_lexer": "ipython3",
   "version": "3.12.4"
  }
 },
 "nbformat": 4,
 "nbformat_minor": 2
}
